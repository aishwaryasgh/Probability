{
 "cells": [
  {
   "cell_type": "markdown",
   "id": "0f7efbc0-5fbb-42b0-b3f1-bf856e9b836b",
   "metadata": {},
   "source": [
    "# Factorial\n",
    "Compute $n!$ as an integer. This example computes $20!$"
   ]
  },
  {
   "cell_type": "code",
   "execution_count": null,
   "id": "3bd1b332-f064-4a01-8095-912cb990e601",
   "metadata": {},
   "outputs": [],
   "source": [
    "import math\n",
    "print(math.factorial(20))"
   ]
  },
  {
   "cell_type": "markdown",
   "id": "e5585e89-e42f-4c12-bfb6-04c11c1411e6",
   "metadata": {},
   "source": [
    "As of Python 3.8, you can compute $n \\choose m$ from the math module. This example computes $10 \\choose 5$:"
   ]
  },
  {
   "cell_type": "code",
   "execution_count": 3,
   "id": "e554cf7f-742b-49c5-9bf1-aa1c6f215159",
   "metadata": {},
   "outputs": [
    {
     "name": "stdout",
     "output_type": "stream",
     "text": [
      "252\n"
     ]
    }
   ],
   "source": [
    "import math\n",
    "print(math.comb(10, 5))"
   ]
  },
  {
   "cell_type": "markdown",
   "id": "f132d01a-6d6d-4809-acc9-7f12217e1bf1",
   "metadata": {},
   "source": [
    "# Natural Exponent\n",
    "\n",
    "Calculate $e^x$. For example this computes $e^3$."
   ]
  },
  {
   "cell_type": "code",
   "execution_count": 48,
   "id": "00741165-8c63-4112-ba60-dba47f2602db",
   "metadata": {},
   "outputs": [
    {
     "name": "stdout",
     "output_type": "stream",
     "text": [
      "20.085536923187668\n"
     ]
    }
   ],
   "source": [
    "import math\n",
    "print(math.exp(3))"
   ]
  },
  {
   "cell_type": "markdown",
   "id": "e92e24e6-1cd7-4c1a-98b6-dfe4bd11b345",
   "metadata": {},
   "source": [
    "# Binomial\n",
    "\n",
    "Make a Binomial Random variable $X$ and compute its probability mass function (PMF) or cumulative density function (CDF). We love the scipy stats library because it defines all the functions you would care about for a random variable, including expectation, variance, and even things we haven't talked about in CS109, like entropy. This example declares $X \\sim \\text{Bin}(n = 10, p = 0.2)$. It calculates a few statistics on $X$. It then calculates $P(X = 3)$ and $P(X \\leq 4)$. Finally it generates a few random samples from $X$:"
   ]
  },
  {
   "cell_type": "code",
   "execution_count": 51,
   "id": "aa3172b1-4240-494b-a98a-c542e5014db8",
   "metadata": {},
   "outputs": [
    {
     "name": "stdout",
     "output_type": "stream",
     "text": [
      "0.20132659199999992\n",
      "0.9672065024\n",
      "2.0\n",
      "1.6\n",
      "1.2649110640673518\n",
      "1\n",
      "[0 1 2 4 0 3 1 3 2 1]\n"
     ]
    }
   ],
   "source": [
    "from scipy import stats\n",
    "X = stats.binom(10, 0.2)  # Declare X to be a binomial random variable\n",
    "print(X.pmf(3))           # P(X = 3)\n",
    "print(X.cdf(4))           # P(X <= 4)\n",
    "print(X.mean())           # E[X]\n",
    "print(X.var())            # Var(X)\n",
    "print(X.std())            # Std(X)\n",
    "print(X.rvs())            # Get a random sample from X\n",
    "print(X.rvs(10))          # Get 10 random samples form X"
   ]
  },
  {
   "cell_type": "code",
   "execution_count": 15,
   "id": "72eaf365-7326-41d7-aee6-d114165131c7",
   "metadata": {},
   "outputs": [
    {
     "name": "stdout",
     "output_type": "stream",
     "text": [
      "Help on rv_discrete_frozen in module scipy.stats._distn_infrastructure object:\n",
      "\n",
      "class rv_discrete_frozen(rv_frozen)\n",
      " |  rv_discrete_frozen(dist, *args, **kwds)\n",
      " |\n",
      " |  Method resolution order:\n",
      " |      rv_discrete_frozen\n",
      " |      rv_frozen\n",
      " |      builtins.object\n",
      " |\n",
      " |  Methods defined here:\n",
      " |\n",
      " |  logpmf(self, k)\n",
      " |\n",
      " |  pmf(self, k)\n",
      " |\n",
      " |  ----------------------------------------------------------------------\n",
      " |  Methods inherited from rv_frozen:\n",
      " |\n",
      " |  __init__(self, dist, *args, **kwds)\n",
      " |      Initialize self.  See help(type(self)) for accurate signature.\n",
      " |\n",
      " |  cdf(self, x)\n",
      " |\n",
      " |  entropy(self)\n",
      " |\n",
      " |  expect(self, func=None, lb=None, ub=None, conditional=False, **kwds)\n",
      " |\n",
      " |  interval(self, confidence=None)\n",
      " |\n",
      " |  isf(self, q)\n",
      " |\n",
      " |  logcdf(self, x)\n",
      " |\n",
      " |  logsf(self, x)\n",
      " |\n",
      " |  mean(self)\n",
      " |\n",
      " |  median(self)\n",
      " |\n",
      " |  moment(self, order=None)\n",
      " |\n",
      " |  ppf(self, q)\n",
      " |\n",
      " |  rvs(self, size=None, random_state=None)\n",
      " |\n",
      " |  sf(self, x)\n",
      " |\n",
      " |  stats(self, moments='mv')\n",
      " |\n",
      " |  std(self)\n",
      " |\n",
      " |  support(self)\n",
      " |\n",
      " |  var(self)\n",
      " |\n",
      " |  ----------------------------------------------------------------------\n",
      " |  Data descriptors inherited from rv_frozen:\n",
      " |\n",
      " |  __dict__\n",
      " |      dictionary for instance variables\n",
      " |\n",
      " |  __weakref__\n",
      " |      list of weak references to the object\n",
      " |\n",
      " |  random_state\n",
      "\n"
     ]
    }
   ],
   "source": [
    "from scipy import stats\n",
    "X = stats.binom(10, 0.2) # Declare X to be a binomial random variable\n",
    "help(X)                  # List all methods defined for X"
   ]
  },
  {
   "cell_type": "markdown",
   "id": "be14d2e6-4bb2-4799-8b18-6e5086d32ca2",
   "metadata": {},
   "source": [
    "Poisson\n",
    "\n",
    "Make a Poisson Random variable $Y$. This example declares $Y \\sim \\text{Poi}(\\lambda = 2)$. It then calculates $P(Y = 3)$:\n"
   ]
  },
  {
   "cell_type": "code",
   "execution_count": 24,
   "id": "f220b86d-d717-44ce-aff8-633361af5583",
   "metadata": {},
   "outputs": [
    {
     "name": "stdout",
     "output_type": "stream",
     "text": [
      "0.18044704431548356\n",
      "4\n"
     ]
    }
   ],
   "source": [
    "\n",
    "from scipy import stats\n",
    "Y = stats.poisson(2)  # Declare Y to be a poisson random variable\n",
    "print(Y.pmf(3))       # P(Y = 3)\n",
    "print(Y.rvs())        # Get a random sample from Y"
   ]
  },
  {
   "cell_type": "markdown",
   "id": "97d0db05-b07f-4f40-b13e-a463c8bd515e",
   "metadata": {},
   "source": [
    "# Geometric\n",
    "\n",
    "Make a Geometric Random variable $X$, the number of trials until a success. This example declares $X \\sim \\text{Geo}(p = 0.75)$:"
   ]
  },
  {
   "cell_type": "code",
   "execution_count": 28,
   "id": "34038a51-bea9-4413-87d1-7139efd91516",
   "metadata": {},
   "outputs": [
    {
     "name": "stdout",
     "output_type": "stream",
     "text": [
      "0.046875\n",
      "1\n"
     ]
    }
   ],
   "source": [
    "from scipy import stats\n",
    "X = stats.geom(0.75)  # Declare X to be a geometric random variable\n",
    "print(X.pmf(3))       # P(X = 3)\n",
    "print(X.rvs())        # Get a random sample from Y"
   ]
  },
  {
   "cell_type": "markdown",
   "id": "40b4f363-4716-462e-8b5a-4783be362f6b",
   "metadata": {},
   "source": [
    "# Normal\n",
    "\n",
    "Make a Normal Random variable $A$. This example declares $A \\sim N(\\mu = 3, \\sigma^2 = 16)$. It then calculates $f_Y(0)$ and $F_Y(0)$. Very Important!!! In class, the second parameter to a normal was the variance ($\\sigma^2$). In the scipy library, the second parameter is the standard deviation ($\\sigma$)."
   ]
  },
  {
   "cell_type": "code",
   "execution_count": 31,
   "id": "7a4f0a37-ef28-4b57-bccf-dd0cbf7afec5",
   "metadata": {},
   "outputs": [
    {
     "name": "stdout",
     "output_type": "stream",
     "text": [
      "0.09666702920071232\n",
      "0.4012936743170763\n",
      "-3.9688442475881747\n"
     ]
    }
   ],
   "source": [
    "import math\n",
    "from scipy import stats\n",
    "A = stats.norm(3, math.sqrt(16)) # Declare A to be a normal random variable\n",
    "print(A.pdf(4))                  # f(3), the probability density at 3\n",
    "print(A.cdf(2))                  # F(2), which is also P(A < 2)\n",
    "print(A.rvs())                   # Get a random sample from A"
   ]
  },
  {
   "cell_type": "markdown",
   "id": "46a46516-24ab-415f-a06f-be421f073b5a",
   "metadata": {},
   "source": [
    "# Exponential\n",
    "\n",
    "Make an Exponential Random variable $B$. This example declares $B \\sim \\text{Exp}(\\lambda = 4)$:"
   ]
  },
  {
   "cell_type": "code",
   "execution_count": 34,
   "id": "556e946c-35a4-4b62-be14-7b9bc862c885",
   "metadata": {},
   "outputs": [
    {
     "name": "stdout",
     "output_type": "stream",
     "text": [
      "0.07326255555493671\n",
      "0.9996645373720975\n",
      "0.09810944230069613\n"
     ]
    }
   ],
   "source": [
    "from scipy import stats\n",
    "# λ is a common parameterization for the exponential,\n",
    "# but scipy uses `scale` which is 1/λ\n",
    "# Note that scipy also allows a `loc` argument, which\n",
    "# functions as an offset and comes first by default,\n",
    "# so writing `scale=` is required\n",
    "B = stats.expon(scale=1/4)\n",
    "print(B.pdf(1))             # f(1), the probability density at 1\n",
    "print(B.cdf(2))             # F(2) which is also P(B < 2)\n",
    "print(B.rvs())              # Get a random sample from B"
   ]
  },
  {
   "cell_type": "markdown",
   "id": "1b145b09-c919-4708-a2dd-759bd0b74f9d",
   "metadata": {},
   "source": [
    "# Beta\n",
    "\n",
    "Make a Beta Random variable $X$. This example declares $X \\sim \\text{Beta}(\\alpha = 1, \\beta = 3)$:"
   ]
  },
  {
   "cell_type": "code",
   "execution_count": 40,
   "id": "0fc88f16-d141-4400-b5c0-0950aa34714f",
   "metadata": {},
   "outputs": [
    {
     "name": "stdout",
     "output_type": "stream",
     "text": [
      "0.7499999999999999\n",
      "0.973\n",
      "0.2419311308137795\n"
     ]
    }
   ],
   "source": [
    "from scipy import stats\n",
    "X = stats.beta(1, 3)  # Declare X to be a beta random variable\n",
    "print(X.pdf(0.5))     # f(0.5), the probability density at 1\n",
    "print(X.cdf(0.7))     # F(0.7) which is also P(X < 0.7)\n",
    "print(X.rvs())        # Get a random sample from X"
   ]
  },
  {
   "cell_type": "code",
   "execution_count": null,
   "id": "98bf317a-e9eb-4a13-9a02-bd47c90f1d2b",
   "metadata": {},
   "outputs": [],
   "source": []
  }
 ],
 "metadata": {
  "kernelspec": {
   "display_name": "Python [conda env:base] *",
   "language": "python",
   "name": "conda-base-py"
  },
  "language_info": {
   "codemirror_mode": {
    "name": "ipython",
    "version": 3
   },
   "file_extension": ".py",
   "mimetype": "text/x-python",
   "name": "python",
   "nbconvert_exporter": "python",
   "pygments_lexer": "ipython3",
   "version": "3.12.7"
  }
 },
 "nbformat": 4,
 "nbformat_minor": 5
}
